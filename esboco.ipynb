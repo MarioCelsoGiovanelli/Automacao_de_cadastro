{
 "cells": [
  {
   "cell_type": "markdown",
   "metadata": {},
   "source": [
    "<h2 style=\"color: #37709F\">Entendendo como funciona o Selenium</h2>"
   ]
  },
  {
   "cell_type": "code",
   "execution_count": 15,
   "metadata": {},
   "outputs": [],
   "source": [
    "from selenium import webdriver\n",
    "from selenium.webdriver.common.keys import Keys\n",
    "from selenium.webdriver.common.by import By\n",
    "import time\n",
    "import pandas as pd"
   ]
  },
  {
   "cell_type": "markdown",
   "metadata": {},
   "source": [
    "<h3 style=\"color: #2F666F\">Automatizando o Login</h3>"
   ]
  },
  {
   "cell_type": "code",
   "execution_count": 30,
   "metadata": {},
   "outputs": [],
   "source": [
    "browser = webdriver.Chrome()\n",
    "browser.maximize_window()\n",
    "browser.get('http://automacao.empowerdata.com.br')\n",
    "\n",
    "email = browser.find_element(By.XPATH, '//*[@id=\"email\"]')\n",
    "email.send_keys('aluno@empowerdata.com.br')\n",
    "time.sleep(1)\n",
    "\n",
    "login = browser.find_element(By.XPATH, '//*[@id=\"password\"]')\n",
    "login.send_keys('empowerpython')\n",
    "\n",
    "botao_entrar = browser.find_element(By.XPATH, '//*[@id=\"submit\"]')\n",
    "botao_entrar.click()"
   ]
  },
  {
   "cell_type": "markdown",
   "metadata": {},
   "source": [
    "<h3 style=\"color: #2F666F\">Preechendo Cadastro de Clientes</h3>"
   ]
  },
  {
   "cell_type": "code",
   "execution_count": null,
   "metadata": {},
   "outputs": [],
   "source": [
    "cliente = browser.find_element(By.XPATH, '//*[@id=\"nome\"]')\n",
    "cliente.send_keys('')\n",
    "\n",
    "email = browser.find_element(By.XPATH, '//*[@id=\"email\"]')\n",
    "email.send_keys('')\n",
    "\n",
    "telefone = browser.find_element(By.XPATH, '//*[@id=\"telefone\"]')\n",
    "telefone.send_keys('')\n",
    "\n",
    "cidade = browser.find_element(By.XPATH, '//*[@id=\"cidade\"]')\n",
    "cidade.send_keys('')\n",
    "\n",
    "estado = browser.find_element(By.XPATH, '//*[@id=\"estado\"]')\n",
    "estado.send_keys('')\n"
   ]
  },
  {
   "cell_type": "code",
   "execution_count": null,
   "metadata": {},
   "outputs": [],
   "source": [
    "botao_cadastrar = browser.find_elements(By.XPATH, '//*[@id=\"submit\"]')\n",
    "botao_cadastrar.click()"
   ]
  },
  {
   "cell_type": "code",
   "execution_count": 16,
   "metadata": {},
   "outputs": [],
   "source": [
    "df = pd.read_excel('cadastro_clientes.xlsx')"
   ]
  },
  {
   "cell_type": "code",
   "execution_count": null,
   "metadata": {},
   "outputs": [],
   "source": [
    "df.head()"
   ]
  },
  {
   "cell_type": "markdown",
   "metadata": {},
   "source": [
    "<h3 style=\"color: #2F666F\">Criando a interação de dados</h3>"
   ]
  },
  {
   "cell_type": "markdown",
   "metadata": {},
   "source": [
    "- O método **iterrows()** retorna o indice e os dados da linha"
   ]
  },
  {
   "cell_type": "code",
   "execution_count": 24,
   "metadata": {},
   "outputs": [],
   "source": [
    "# O _ é usado para desempacotar algo que não vamos usar\n",
    "for _, linha in df.iterrows():\n",
    "    cliente = browser.find_element(By.XPATH, '//*[@id=\"nome\"]')\n",
    "    cliente.send_keys(linha['Nome'])\n",
    "\n",
    "    email = browser.find_element(By.XPATH, '//*[@id=\"email\"]')\n",
    "    email.send_keys(linha['E-mail'])\n",
    "\n",
    "    telefone = browser.find_element(By.XPATH, '//*[@id=\"telefone\"]')\n",
    "    telefone.send_keys(linha['Telefone'])\n",
    "\n",
    "    cidade = browser.find_element(By.XPATH, '//*[@id=\"cidade\"]')\n",
    "    cidade.send_keys(linha['Cidade'])\n",
    "\n",
    "    estado = browser.find_element(By.XPATH, '//*[@id=\"estado\"]')\n",
    "    estado.send_keys(linha['Estado'])\n",
    "\n",
    "    time.sleep(3)\n",
    "\n",
    "    botao_cadastrar = browser.find_element(By.XPATH, '//*[@id=\"submit\"]')\n",
    "    botao_cadastrar.click()\n",
    "\n",
    "    break"
   ]
  }
 ],
 "metadata": {
  "kernelspec": {
   "display_name": "venv",
   "language": "python",
   "name": "python3"
  },
  "language_info": {
   "codemirror_mode": {
    "name": "ipython",
    "version": 3
   },
   "file_extension": ".py",
   "mimetype": "text/x-python",
   "name": "python",
   "nbconvert_exporter": "python",
   "pygments_lexer": "ipython3",
   "version": "3.11.7"
  }
 },
 "nbformat": 4,
 "nbformat_minor": 2
}
